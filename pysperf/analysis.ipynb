{
 "cells": [
  {
   "cell_type": "code",
   "execution_count": null,
   "metadata": {},
   "outputs": [],
   "source": [
    "import pandas\n",
    "import matplotlib.pyplot as plt"
   ]
  },
  {
   "cell_type": "code",
   "execution_count": null,
   "metadata": {},
   "outputs": [],
   "source": [
    "df = pandas.read_excel('output/results.xlsx', sheet_name=\"data\", index_col=0)"
   ]
  },
  {
   "cell_type": "code",
   "execution_count": null,
   "metadata": {},
   "outputs": [],
   "source": [
    "# Set up line styles\n",
    "black = \"#000000\"\n",
    "colors = [\n",
    "    \"#0070a3\",\n",
    "    \"#5273ba\",\n",
    "    \"#916fc2\",\n",
    "    \"#ca67b7\",\n",
    "    \"#f6619c\",\n",
    "    \"#ff6974\",\n",
    "    \"#ff8347\",\n",
    "    \"#ffa600\",\n",
    "]\n",
    "\n",
    "style_map = {\n",
    "    'Virtual Best': dict(color=black, linestyle=\"solid\"),\n",
    "    'BARON-BM': dict(color=colors[0], linestyle=\"dashed\"),\n",
    "    'BARON-HR': dict(color=colors[0], linestyle=\"dotted\"),\n",
    "    'SCIP-BM': dict(color=colors[1], linestyle=\"dashed\"),\n",
    "    'SCIP-HR': dict(color=colors[1], linestyle=\"dotted\"),\n",
    "    'DICOPT-BM': dict(color=colors[2], linestyle=\"dashed\"),\n",
    "    'DICOPT-HR': dict(color=colors[2], linestyle=\"dotted\"),\n",
    "    'GDPopt-GLOA': dict(color=colors[3], linestyle=\"solid\"),\n",
    "    'GDPopt-GLOA-DVB': dict(color=colors[3], linestyle=\"dashed\"),\n",
    "    'GDPopt-LBB': dict(color=colors[4], linestyle=\"dashed\"),\n",
    "    'GDPopt-LOA': dict(color=colors[5], linestyle=\"dashed\"),\n",
    "    'Mindtpy-OA-BM': dict(color=colors[6], linestyle=\"dashed\"),\n",
    "    'Mindtpy-OA-HR': dict(color=colors[6], linestyle=\"dotted\"),\n",
    "}"
   ]
  },
  {
   "cell_type": "code",
   "execution_count": null,
   "metadata": {},
   "outputs": [],
   "source": [
    "# Determine best time to solve for each model\n",
    "best_soln_times = {model: df.loc[df.model == model].time_to_soln.min() for model in df.model.unique()}\n",
    "\n",
    "# Eliminate duplicates (take the best time for each model/solver pair)\n",
    "df_time_to_soln = df.sort_values(by='time_to_soln')\n",
    "df_time_to_soln = df_time_to_soln.drop_duplicates(subset=['model', 'solver'], keep='first')\n",
    "df_time_to_soln = df_time_to_soln[['model', 'solver', 'time_to_soln']]\n",
    "\n",
    "# Generate instances solved vs. time plot\n",
    "df_time_to_soln = pandas.concat([df_time_to_soln, pandas.DataFrame.from_records(\n",
    "    list(dict(model=model, solver='Virtual Best', time_to_soln=best_soln_times[model]) for model in best_soln_times),\n",
    "    index=range(len(best_soln_times))\n",
    ")], sort=False)\n",
    "df_time_to_soln = df_time_to_soln[['solver', 'time_to_soln']].sort_values(by='time_to_soln')\n",
    "for solver in df_time_to_soln.solver.unique():\n",
    "    # Create columns corresponding to each solution strategy\n",
    "    df_time_to_soln[solver] = df_time_to_soln.apply(lambda row: 1 if row['solver'] == solver else 0, axis=1)\n",
    "    df_time_to_soln[solver] = df_time_to_soln[solver].cumsum()\n",
    "df_time_to_soln = df_time_to_soln.fillna(value=float('inf'))\n",
    "df_time_to_soln = df_time_to_soln.loc[df_time_to_soln['time_to_soln'] <= 1e6]\n",
    "df_time_to_soln = df_time_to_soln[['time_to_soln', ] + list(df_time_to_soln.solver.unique())]\n",
    "# Remove duplicate times. Data columns are cumulative sums, so keep last duplicate row.\n",
    "df_time_to_soln = df_time_to_soln.drop_duplicates(subset='time_to_soln', keep='last').set_index('time_to_soln')\n",
    "df_time_to_soln = df_time_to_soln.sort_values(df_time_to_soln.last_valid_index(), axis=1, ascending=False)\n",
    "plt.figure(dpi=300)\n",
    "for solver_col in df_time_to_soln.columns:\n",
    "    plt.plot(df_time_to_soln[solver_col], **style_map[solver_col])\n",
    "plt.ylim(bottom=0, top=len(best_soln_times))\n",
    "plt.suptitle('Time to best known solution')\n",
    "plt.xlabel('Time (seconds)')\n",
    "plt.ylabel('Instances solved')\n",
    "plt.legend(bbox_to_anchor=(1.02, 1), loc=\"upper left\", frameon=False)\n",
    "plt.savefig('output/time-to-soln.png', bbox_inches='tight')\n",
    "with pandas.option_context(\n",
    "        'display.max_rows', None, 'display.max_columns', None, 'expand_frame_repr', False\n",
    "), open('output/time-to-soln.log', 'w') as resultsfile:\n",
    "    print(df_time_to_soln, file=resultsfile)"
   ]
  },
  {
   "cell_type": "code",
   "execution_count": null,
   "metadata": {},
   "outputs": [],
   "source": [
    "# Determine the best time to optimality for each model\n",
    "best_opt_times = {model: df.loc[df.model == model].time_to_opt.min() for model in df.model.unique()}\n",
    "\n",
    "# Eliminate duplicates (take the best time for each model/solver pair)\n",
    "df_time_to_opt = df.sort_values(by='time_to_opt')\n",
    "df_time_to_opt = df_time_to_opt.drop_duplicates(subset=['model', 'solver'], keep='first')\n",
    "df_time_to_opt = df_time_to_opt[['model', 'solver', 'time_to_opt']]\n",
    "\n",
    "# Generate instances solved vs. time plot\n",
    "df_time_to_opt = pandas.concat([df_time_to_opt, pandas.DataFrame.from_records(\n",
    "    list(dict(model=model, solver='Virtual Best', time_to_opt=best_opt_times[model]) for model in best_opt_times),\n",
    "    index=range(len(best_opt_times))\n",
    ")], sort=False)\n",
    "df_time_to_opt = df_time_to_opt[['solver', 'time_to_opt']].sort_values(by='time_to_opt')\n",
    "for solver in df_time_to_opt.solver.unique():\n",
    "    # Create columns corresponding to each solution strategy\n",
    "    df_time_to_opt[solver] = df_time_to_opt.apply(lambda row: 1 if row['solver'] == solver else 0, axis=1)\n",
    "    df_time_to_opt[solver] = df_time_to_opt[solver].cumsum()\n",
    "df_time_to_opt = df_time_to_opt.fillna(value=float('inf'))\n",
    "df_time_to_opt = df_time_to_opt.loc[df_time_to_opt['time_to_opt'] <= 1e6]\n",
    "df_time_to_opt = df_time_to_opt[['time_to_opt', ] + list(df_time_to_opt.solver.unique())]\n",
    "# Remove duplicate times. Data columns are cumulative sums, so keep last duplicate row.\n",
    "df_time_to_opt = df_time_to_opt.drop_duplicates(subset='time_to_opt', keep='last').set_index('time_to_opt')\n",
    "df_time_to_opt = df_time_to_opt.sort_values(df_time_to_opt.last_valid_index(), axis=1, ascending=False)\n",
    "plt.figure(dpi=300)\n",
    "for solver_col in df_time_to_opt.columns:\n",
    "    plt.plot(df_time_to_opt[solver_col], **style_map[solver_col])\n",
    "plt.ylim(bottom=0, top=len(best_soln_times))\n",
    "plt.suptitle('Time to global optimality')\n",
    "plt.xlabel('Time (seconds)')\n",
    "plt.ylabel('Instances solved')\n",
    "plt.legend(bbox_to_anchor=(1.02, 1), loc=\"upper left\", frameon=False)\n",
    "plt.savefig('output/time-to-opt.png', bbox_inches='tight')\n",
    "with pandas.option_context(\n",
    "        'display.max_rows', None, 'display.max_columns', None, 'expand_frame_repr', False\n",
    "), open('output/time-to-opt.log', 'w') as resultsfile:\n",
    "    print(df_time_to_opt, file=resultsfile)"
   ]
  },
  {
   "cell_type": "code",
   "execution_count": null,
   "metadata": {},
   "outputs": [],
   "source": [
    "# Determine the best time to an ok solution (10% gap) for each model\n",
    "best_ok_times = {model: df.loc[df.model == model].time_to_ok_soln.min() for model in df.model.unique()}\n",
    "\n",
    "# Eliminate duplicates (take the best time for each model/solver pair)\n",
    "df_time_to_ok = df.sort_values(by='time_to_ok_soln')\n",
    "df_time_to_ok = df_time_to_ok.drop_duplicates(subset=['model', 'solver'], keep='first')\n",
    "df_time_to_ok = df_time_to_ok[['model', 'solver', 'time_to_ok_soln']]\n",
    "\n",
    "# Generate instances solved vs. time plot\n",
    "df_time_to_ok = pandas.concat([df_time_to_ok, pandas.DataFrame.from_records(\n",
    "    list(dict(model=model, solver='Virtual Best', time_to_ok_soln=best_ok_times[model]) for model in best_ok_times),\n",
    "    index=range(len(best_ok_times))\n",
    ")], sort=False)\n",
    "df_time_to_ok = df_time_to_ok[['solver', 'time_to_ok_soln']].sort_values(by='time_to_ok_soln')\n",
    "for solver in df_time_to_ok.solver.unique():\n",
    "    # Create columns corresponding to each solution strategy\n",
    "    df_time_to_ok[solver] = df_time_to_ok.apply(lambda row: 1 if row['solver'] == solver else 0, axis=1)\n",
    "    df_time_to_ok[solver] = df_time_to_ok[solver].cumsum()\n",
    "df_time_to_ok = df_time_to_ok.fillna(value=float('inf'))\n",
    "df_time_to_ok = df_time_to_ok.loc[df_time_to_ok['time_to_ok_soln'] <= 1e6]\n",
    "df_time_to_ok = df_time_to_ok[['time_to_ok_soln', ] + list(df_time_to_ok.solver.unique())]\n",
    "# Remove duplicate times. Data columns are cumulative sums, so keep last duplicate row.\n",
    "df_time_to_ok = df_time_to_ok.drop_duplicates(subset='time_to_ok_soln', keep='last').set_index('time_to_ok_soln')\n",
    "df_time_to_ok = df_time_to_ok.sort_values(df_time_to_ok.last_valid_index(), axis=1, ascending=False)\n",
    "plt.figure(dpi=300)\n",
    "for solver_col in df_time_to_ok.columns:\n",
    "    plt.plot(df_time_to_ok[solver_col], **style_map[solver_col])\n",
    "plt.ylim(bottom=0, top=len(best_soln_times))\n",
    "plt.suptitle('Time to acceptable solution')\n",
    "plt.xlabel('Time (seconds)')\n",
    "plt.ylabel('Instances solved')\n",
    "plt.legend(bbox_to_anchor=(1.02, 1), loc=\"upper left\", frameon=False)\n",
    "plt.savefig('output/time-to-ok-soln.png', bbox_inches='tight')\n",
    "with pandas.option_context(\n",
    "        'display.max_rows', None, 'display.max_columns', None, 'expand_frame_repr', False\n",
    "), open('output/time-to-ok-soln.log', 'w') as resultsfile:\n",
    "    print(df_time_to_ok, file=resultsfile)"
   ]
  },
  {
   "cell_type": "code",
   "execution_count": null,
   "metadata": {},
   "outputs": [],
   "source": [
    "number_solved = pandas.concat([df_time_to_opt.tail(1), df_time_to_soln.tail(1), df_time_to_ok.tail(1)], axis=0, ignore_index=True, sort=True).fillna(0).astype('int32')\n",
    "number_solved.set_index(pandas.Index([\"1% gap optimal\", \"1% gap best known\", \"10% gap best known\",]), inplace=True)\n",
    "number_solved.sort_values(by=[\"1% gap optimal\", \"1% gap best known\", \"10% gap best known\"], axis=1, inplace=True, ascending=False)\n",
    "number_solved = number_solved.transpose()\n",
    "percent_solved = number_solved.apply(lambda x: round(x / len(best_soln_times) * 100)).astype('int32')"
   ]
  },
  {
   "cell_type": "code",
   "execution_count": null,
   "metadata": {
    "scrolled": false
   },
   "outputs": [],
   "source": [
    "(number_solved\n",
    " .style\n",
    " .bar(color='lightgreen', vmin=0, vmax=len(best_soln_times))\n",
    " .set_caption(\"Number of instances solved out of %s\" % len(best_soln_times)))"
   ]
  },
  {
   "cell_type": "code",
   "execution_count": null,
   "metadata": {},
   "outputs": [],
   "source": [
    "(percent_solved\n",
    " .style\n",
    " .bar(color='lightgreen', vmin=0, vmax=100)\n",
    " .set_caption(\"Percent of instances solved out of %s\" % len(best_soln_times)))"
   ]
  },
  {
   "cell_type": "code",
   "execution_count": null,
   "metadata": {},
   "outputs": [],
   "source": [
    "# Output the error messages found in the results\n",
    "fail_messages = (\n",
    "    df[df.err_msg.notnull()][['model', 'solver', 'err_msg']]\n",
    "    .sort_values(by=['model', 'solver'])\n",
    "    .drop_duplicates(subset=['model', 'solver'], keep='first'))\n",
    "fail_messages.set_index(['model', 'solver'], inplace=True)\n",
    "fail_messages.style.set_caption(\"Error messages by model and solver\")"
   ]
  },
  {
   "cell_type": "code",
   "execution_count": null,
   "metadata": {},
   "outputs": [],
   "source": [
    "def generate_solution_rank_table(sort_column='time_to_ok_soln'):\n",
    "    best_solver_df = df.sort_values(by=sort_column).drop_duplicates(subset=['model', 'solver'], keep='first')\n",
    "    # df.groupby('model').apply(lambda x: print(x[['model', 'solver', 'time_to_ok_soln']]))\n",
    "    best_solver_df['rank'] = best_solver_df.groupby('model').cumcount()\n",
    "    best_solver_df['rank'] += 1\n",
    "    best_solver_df['solver_time'] = best_solver_df.apply(\n",
    "        lambda row: (row['solver'] + (\" %.2f\" % row[sort_column]) if pandas.notna(row[sort_column]) else \"\"), axis=1)\n",
    "    return (best_solver_df[['model', 'solver', sort_column, 'rank', 'solver_time']]\n",
    "    #  .groupby('model').head(3)  # Only display top N\n",
    "     .sort_values(by=['model', sort_column])\n",
    "     .pivot(index='model', columns='rank', values='solver_time')\n",
    "     .fillna(\"\")\n",
    "     .style.set_caption(\"Best %s\" % sort_column.replace(\"_\", \" \"))\n",
    "    )\n",
    "\n",
    "generate_solution_rank_table(sort_column='time_to_ok_soln')\n",
    "# generate_solution_rank_table(sort_column='time_to_soln')\n",
    "# generate_solution_rank_table(sort_column='time_to_opt')"
   ]
  },
  {
   "cell_type": "code",
   "execution_count": null,
   "metadata": {},
   "outputs": [],
   "source": [
    "df[df['model'] == 'stickies']"
   ]
  },
  {
   "cell_type": "code",
   "execution_count": null,
   "metadata": {},
   "outputs": [],
   "source": []
  },
  {
   "cell_type": "code",
   "execution_count": null,
   "metadata": {},
   "outputs": [],
   "source": []
  },
  {
   "cell_type": "code",
   "execution_count": null,
   "metadata": {},
   "outputs": [],
   "source": []
  }
 ],
 "metadata": {
  "kernelspec": {
   "display_name": "Python 3",
   "language": "python",
   "name": "python3"
  },
  "language_info": {
   "codemirror_mode": {
    "name": "ipython",
    "version": 3
   },
   "file_extension": ".py",
   "mimetype": "text/x-python",
   "name": "python",
   "nbconvert_exporter": "python",
   "pygments_lexer": "ipython3",
   "version": "3.6.9"
  }
 },
 "nbformat": 4,
 "nbformat_minor": 2
}
